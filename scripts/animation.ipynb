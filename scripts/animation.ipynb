{
 "cells": [
  {
   "cell_type": "code",
   "execution_count": null,
   "metadata": {},
   "outputs": [],
   "source": [
    "import sys\n",
    "sys.path.append('..')\n",
    "from par_segmentation import *\n",
    "from matplotlib import animation\n",
    "from matplotlib_polyroi import RoiJupyter\n",
    "%matplotlib notebook"
   ]
  },
  {
   "cell_type": "code",
   "execution_count": null,
   "metadata": {},
   "outputs": [],
   "source": [
    "img = load_image('nwg338_af_corrected.tif')"
   ]
  },
  {
   "cell_type": "markdown",
   "metadata": {},
   "source": [
    "### Rough manual ROI"
   ]
  },
  {
   "cell_type": "code",
   "execution_count": null,
   "metadata": {},
   "outputs": [],
   "source": [
    "# r1 = RoiJupyter(img, periodic=True, spline=True)\n",
    "# r1.run()"
   ]
  },
  {
   "cell_type": "code",
   "execution_count": null,
   "metadata": {},
   "outputs": [],
   "source": [
    "# np.savetxt('nwg338_ROI_init.txt', r1.roi)"
   ]
  },
  {
   "cell_type": "code",
   "execution_count": null,
   "metadata": {},
   "outputs": [],
   "source": [
    "roi = np.loadtxt('nwg338_ROI_init.txt')"
   ]
  },
  {
   "cell_type": "markdown",
   "metadata": {},
   "source": [
    "### Run"
   ]
  },
  {
   "cell_type": "code",
   "execution_count": null,
   "metadata": {},
   "outputs": [],
   "source": [
    "straights = []\n",
    "rois_new = []"
   ]
  },
  {
   "cell_type": "code",
   "execution_count": null,
   "metadata": {},
   "outputs": [],
   "source": [
    "iq = ImageQuantGradientDescent(img=img, roi=roi, sigma=3.5, descent_steps=300, rol_ave=5, \n",
    "                                lr=0.01, iterations=1, fit_outer=True, roi_knots=20, nfits=None, save_training=True)"
   ]
  },
  {
   "cell_type": "code",
   "execution_count": null,
   "metadata": {},
   "outputs": [],
   "source": [
    "# First iteration\n",
    "iq.run()\n",
    "iq.adjust_roi()\n",
    "roi2 = iq.roi[0]\n",
    "\n",
    "for i in iq.saved_vars[0::10]:\n",
    "    a = tf.concat((i['offsets'], i['offsets'][:, :1]), axis=1)\n",
    "    offsets_spline = create_offsets_spline(i['offsets'], iq.roi_knots, iq.periodic, iq.n, iq.nfits, [roi,]).numpy()\n",
    "    roi_new = offset_coordinates(roi, iq.freedom * tf.math.tanh(offsets_spline[0]))\n",
    "    roi_new_interp = interp_roi(roi_new)\n",
    "    rois_new.append(roi_new_interp)\n",
    "    straights.append(straighten(img, roi_new_interp, 50))"
   ]
  },
  {
   "cell_type": "code",
   "execution_count": null,
   "metadata": {},
   "outputs": [],
   "source": [
    "# Second iteration\n",
    "iq.run()\n",
    "iq.adjust_roi()\n",
    "roi3 = iq.roi[0]\n",
    "\n",
    "for i in iq.saved_vars[0::10]:\n",
    "    a = tf.concat((i['offsets'], i['offsets'][:, :1]), axis=1)\n",
    "    offsets_spline = create_offsets_spline(i['offsets'], iq.roi_knots, iq.periodic, iq.n, iq.nfits, [roi2,]).numpy()\n",
    "    roi_new = offset_coordinates(roi2, iq.freedom * tf.math.tanh(offsets_spline[0]))\n",
    "    roi_new_interp = interp_roi(roi_new)\n",
    "    rois_new.append(roi_new_interp)\n",
    "    straights.append(straighten(img, roi_new_interp, 50))"
   ]
  },
  {
   "cell_type": "code",
   "execution_count": null,
   "metadata": {},
   "outputs": [],
   "source": [
    "# # Third iteration\n",
    "# iq.run()\n",
    "\n",
    "# for i in iq.saved_vars[0::10]:\n",
    "#     a = tf.concat((i['offsets'], i['offsets'][:, :1]), axis=1)\n",
    "#     offsets_spline = create_offsets_spline(i['offsets'], iq.roi_knots, iq.periodic, iq.n, iq.nfits, [roi3,]).numpy()\n",
    "#     roi_new = offset_coordinates(roi3, iq.freedom * tf.math.tanh(offsets_spline[0]))\n",
    "#     roi_new_interp = interp_roi(roi_new)\n",
    "#     rois_new.append(roi_new_interp)\n",
    "#     straights.append(straighten(img, roi_new_interp, 50))"
   ]
  },
  {
   "cell_type": "code",
   "execution_count": null,
   "metadata": {
    "scrolled": false
   },
   "outputs": [],
   "source": [
    "max_width = max(s.shape[1] for s in straights)\n",
    "print(max_width)\n",
    "max_intensity = max(np.max(s) for s in straights)\n",
    "\n",
    "fig, ax = plt.subplots()\n",
    "@widgets.interact(t=(0, len(straights)-1, 1))\n",
    "def update(t=0): \n",
    "    ax.clear()\n",
    "    pad_full = max_width - straights[t].shape[1]\n",
    "    pad_left = int(np.ceil(pad_full/2))\n",
    "    pad_right = int(pad_full/2)\n",
    "    straight_padded = np.c_[max_intensity * np.ones([50, pad_left]), straights[t], \n",
    "                            max_intensity * np.ones([50, pad_right])]\n",
    "    ax.imshow(straight_padded, cmap='gray', vmin=0, vmax=max_intensity)\n",
    "    ax.axis('off')\n",
    "fig.set_size_inches(10, 2)\n",
    "fig.tight_layout()"
   ]
  },
  {
   "cell_type": "markdown",
   "metadata": {},
   "source": [
    "### Animation"
   ]
  },
  {
   "cell_type": "code",
   "execution_count": null,
   "metadata": {},
   "outputs": [],
   "source": [
    "# fig, ax = plt.subplots()\n",
    "# fig.set_size_inches(10, 2)\n",
    "# fig.tight_layout()\n",
    "\n",
    "# def update(t=0): \n",
    "#     ax.clear()\n",
    "#     pad_full = max_width - straights[t].shape[1]\n",
    "#     pad_left = int(np.ceil(pad_full/2))\n",
    "#     pad_right = int(pad_full/2)\n",
    "#     straight_padded = np.c_[max_intensity * np.ones([50, pad_left]), straights[t], \n",
    "#                             max_intensity * np.ones([50, pad_right])]\n",
    "#     ax.imshow(straight_padded, cmap='gray', vmin=0, vmax=max_intensity)\n",
    "#     ax.axis('off')\n",
    "\n",
    "\n",
    "# frames = np.r_[[0], np.arange(0, len(straights)-1,)]\n",
    "# anim = animation.FuncAnimation(fig, update, frames=iter(frames), save_count=len(frames))\n",
    "# writer = animation.writers['ffmpeg']\n",
    "# writer = writer(fps=24, bitrate=2000)\n",
    "# anim.save('animation.gif', writer=writer, dpi=200)"
   ]
  },
  {
   "cell_type": "markdown",
   "metadata": {},
   "source": [
    "### Unstraightened figure"
   ]
  },
  {
   "cell_type": "code",
   "execution_count": null,
   "metadata": {},
   "outputs": [],
   "source": [
    "fig, ax = plt.subplots()\n",
    "ax.imshow(img[170:-110, 130:-100], cmap='gray', vmin=0, vmax=max_intensity)\n",
    "ax.axis('off')\n",
    "ax.annotate('', xy=(0.5, -0.2), xycoords='axes fraction', xytext=(0.5, -0.05), \n",
    "            arrowprops=dict(arrowstyle=\"->\", color='k', linewidth=2))\n",
    "fig.subplots_adjust(bottom=0.15)\n",
    "fig.savefig('raw_for_animation.png', dpi=600, transparent=True)"
   ]
  },
  {
   "cell_type": "code",
   "execution_count": null,
   "metadata": {},
   "outputs": [],
   "source": [
    "from matplotlib.lines import Line2D\n",
    "\n",
    "class LineDataUnits(Line2D):\n",
    "    def __init__(self, *args, **kwargs):\n",
    "        _lw_data = kwargs.pop(\"linewidth\", 1) \n",
    "        super().__init__(*args, **kwargs)\n",
    "        self._lw_data = _lw_data\n",
    "\n",
    "    def _get_lw(self):\n",
    "        if self.axes is not None:\n",
    "            ppd = 72./self.axes.figure.dpi\n",
    "            trans = self.axes.transData.transform\n",
    "            return ((trans((1, self._lw_data))-trans((0, 0)))*ppd)[1]\n",
    "        else:\n",
    "            return 1\n",
    "\n",
    "    def _set_lw(self, lw):\n",
    "        self._lw_data = lw\n",
    "\n",
    "    _linewidth = property(_get_lw, _set_lw)"
   ]
  },
  {
   "cell_type": "code",
   "execution_count": null,
   "metadata": {},
   "outputs": [],
   "source": [
    "fig, ax = plt.subplots()\n",
    "@widgets.interact(t=(0, len(straights)-1, 1))\n",
    "def update(t=0): \n",
    "    ax.clear()\n",
    "    ax.imshow(img[170:-110, 130:-100], cmap='gray', vmin=0, vmax=max_intensity)\n",
    "    line = LineDataUnits(rois_new[t][:, 0] - 130, rois_new[t][:, 1] - 170, c='tab:cyan', linewidth=2, alpha=0.5,\n",
    "                        linestyle='--')\n",
    "    ax.add_line(line)\n",
    "    ax.axis('off')\n",
    "    ax.annotate('', xy=(0.5, -0.2), xycoords='axes fraction', xytext=(0.5, -0.05), \n",
    "                arrowprops=dict(arrowstyle=\"->\", color='k', linewidth=2))\n",
    "fig.subplots_adjust(bottom=0.15)"
   ]
  },
  {
   "cell_type": "code",
   "execution_count": null,
   "metadata": {},
   "outputs": [],
   "source": [
    "# fig, ax = plt.subplots()\n",
    "# fig.subplots_adjust(bottom=0.15)\n",
    "\n",
    "# def update(t=0): \n",
    "#     ax.clear()\n",
    "#     ax.imshow(img[170:-110, 130:-100], cmap='gray', vmin=0, vmax=max_intensity)\n",
    "#     line = LineDataUnits(rois_new[t][:, 0] - 130, rois_new[t][:, 1] - 170, c='tab:cyan', linewidth=2, alpha=0.5,\n",
    "#                         linestyle='--')\n",
    "#     ax.add_line(line)\n",
    "#     ax.axis('off')\n",
    "#     ax.annotate('', xy=(0.5, -0.2), xycoords='axes fraction', xytext=(0.5, -0.05), \n",
    "#                 arrowprops=dict(arrowstyle=\"->\", color='k', linewidth=2))\n",
    "\n",
    "# frames = np.r_[[0], np.arange(0, len(straights)-1,)]\n",
    "# anim = animation.FuncAnimation(fig, update, frames=iter(frames), save_count=len(frames))\n",
    "# writer = animation.writers['ffmpeg']\n",
    "# writer = writer(fps=24, bitrate=2000)\n",
    "# anim.save('animation2.gif', writer=writer, dpi=200)"
   ]
  },
  {
   "cell_type": "markdown",
   "metadata": {},
   "source": [
    "### Combined"
   ]
  },
  {
   "cell_type": "code",
   "execution_count": null,
   "metadata": {},
   "outputs": [],
   "source": [
    "fig, ax = plt.subplots(2, 1)\n",
    "ax[0].imshow(img[170:-110, 130:-100], cmap='gray', vmin=0, vmax=max_intensity)\n",
    "ax[0].axis('off')\n",
    "ax[0].annotate('', xy=(0.55, -0.2), xycoords='axes fraction', xytext=(0.55, -0.05), \n",
    "            arrowprops=dict(arrowstyle=\"->\", color='k', linewidth=2))\n",
    "ax[0].annotate('', xy=(0.45, -0.2), xycoords='axes fraction', xytext=(0.45, -0.05), \n",
    "            arrowprops=dict(arrowstyle=\"<-\", color='k', linewidth=2))\n",
    "ax[1].imshow(straights[0], cmap='gray', vmin=0, vmax=max_intensity)\n",
    "ax[1].axis('off')\n",
    "\n",
    "fig.set_size_inches(6, 3)\n",
    "fig.subplots_adjust(hspace=-0.1, bottom=-0.1)"
   ]
  },
  {
   "cell_type": "code",
   "execution_count": null,
   "metadata": {},
   "outputs": [],
   "source": [
    "fig, ax = plt.subplots(2, 1)\n",
    "@widgets.interact(t=(0, len(straights)-1, 1))\n",
    "def update(t=0): \n",
    "    ax[0].clear()\n",
    "    ax[0].imshow(img[170:-110, 130:-100], cmap='gray', vmin=0, vmax=max_intensity)\n",
    "    ax[0].axis('off')\n",
    "    ax[0].annotate('', xy=(0.55, -0.2), xycoords='axes fraction', xytext=(0.55, -0.05), \n",
    "                arrowprops=dict(arrowstyle=\"->\", color='k', linewidth=2))\n",
    "    ax[0].annotate('', xy=(0.45, -0.2), xycoords='axes fraction', xytext=(0.45, -0.05), \n",
    "                arrowprops=dict(arrowstyle=\"<-\", color='k', linewidth=2))\n",
    "    line = LineDataUnits(rois_new[t][:, 0] - 130, rois_new[t][:, 1] - 170, c='tab:cyan', linewidth=5, alpha=0.3)\n",
    "    ax[0].add_line(line)\n",
    "    \n",
    "    ax[1].clear()\n",
    "    pad_full = max_width - straights[t].shape[1]\n",
    "    pad_left = int(np.ceil(pad_full/2))\n",
    "    pad_right = int(pad_full/2)\n",
    "    straight_padded = np.c_[max_intensity * np.ones([50, pad_left]), straights[t], \n",
    "                            max_intensity * np.ones([50, pad_right])]\n",
    "    ax[1].imshow(straight_padded, cmap='gray', vmin=0, vmax=max_intensity)\n",
    "    ax[1].axis('off')\n",
    "    \n",
    "fig.set_size_inches(6, 3.5)\n",
    "fig.subplots_adjust(hspace=-0.1, bottom=-0.1)"
   ]
  },
  {
   "cell_type": "code",
   "execution_count": null,
   "metadata": {},
   "outputs": [],
   "source": [
    "fig, ax = plt.subplots(2, 1)\n",
    "fig.set_size_inches(6, 3.5)\n",
    "fig.subplots_adjust(hspace=-0.1, bottom=-0.1)\n",
    "\n",
    "def update(t=0): \n",
    "    ax[0].clear()\n",
    "    ax[0].imshow(img[170:-110, 130:-100], cmap='gray', vmin=0, vmax=max_intensity)\n",
    "    ax[0].axis('off')\n",
    "    ax[0].annotate('', xy=(0.55, -0.2), xycoords='axes fraction', xytext=(0.55, -0.05), \n",
    "                arrowprops=dict(arrowstyle=\"->\", color='k', linewidth=2))\n",
    "    ax[0].annotate('', xy=(0.45, -0.2), xycoords='axes fraction', xytext=(0.45, -0.05), \n",
    "                arrowprops=dict(arrowstyle=\"<-\", color='k', linewidth=2))\n",
    "    line = LineDataUnits(rois_new[t][:, 0] - 130, rois_new[t][:, 1] - 170, c='tab:cyan', linewidth=5, alpha=0.3)\n",
    "    ax[0].add_line(line)\n",
    "    \n",
    "    ax[1].clear()\n",
    "    pad_full = max_width - straights[t].shape[1]\n",
    "    pad_left = int(np.ceil(pad_full/2))\n",
    "    pad_right = int(pad_full/2)\n",
    "    straight_padded = np.c_[max_intensity * np.ones([50, pad_left]), straights[t], \n",
    "                            max_intensity * np.ones([50, pad_right])]\n",
    "    ax[1].imshow(straight_padded, cmap='gray', vmin=0, vmax=max_intensity)\n",
    "    ax[1].axis('off')\n",
    "\n",
    "frames = np.r_[[0], np.arange(0, len(straights)-1,)]\n",
    "anim = animation.FuncAnimation(fig, update, frames=iter(frames), save_count=len(frames))\n",
    "writer = animation.writers['ffmpeg']\n",
    "writer = writer(fps=24, bitrate=2000)\n",
    "anim.save('animation.gif', writer=writer, dpi=200)"
   ]
  },
  {
   "cell_type": "code",
   "execution_count": null,
   "metadata": {},
   "outputs": [],
   "source": []
  }
 ],
 "metadata": {
  "kernelspec": {
   "display_name": "Python 3",
   "language": "python",
   "name": "python3"
  },
  "language_info": {
   "codemirror_mode": {
    "name": "ipython",
    "version": 3
   },
   "file_extension": ".py",
   "mimetype": "text/x-python",
   "name": "python",
   "nbconvert_exporter": "python",
   "pygments_lexer": "ipython3",
   "version": "3.7.9"
  }
 },
 "nbformat": 4,
 "nbformat_minor": 4
}
